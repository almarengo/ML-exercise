{
 "cells": [
  {
   "cell_type": "code",
   "execution_count": 1,
   "metadata": {
    "collapsed": true
   },
   "outputs": [],
   "source": [
    "import pandas as pd"
   ]
  },
  {
   "cell_type": "code",
   "execution_count": 2,
   "outputs": [],
   "source": [
    "df = pd.read_csv('data/coded_responses.csv')"
   ],
   "metadata": {
    "collapsed": false
   }
  },
  {
   "cell_type": "code",
   "execution_count": 3,
   "outputs": [
    {
     "data": {
      "text/plain": "                    question  respondent_id  \\\n0    Why are you cancelling?        1779533   \n1    Why are you cancelling?        1779397   \n2    Why are you cancelling?        1779811   \n3    Why are you cancelling?        1779968   \n4    Why are you cancelling?        1779967   \n..                       ...            ...   \n658  Why are you cancelling?        1779372   \n659  Why are you cancelling?        1779371   \n660  Why are you cancelling?        1779370   \n661  Why are you cancelling?        1779370   \n662  Why are you cancelling?        1779369   \n\n                                              response  \\\n0                             seen what I like already   \n1      You keep canceling really good, popular series!   \n2                        Getting through cell provider   \n3                                          Budget cuts   \n4                           Cannot have multiple users   \n..                                                 ...   \n658  Your pricing is terrible. You keep increasing ...   \n659  Your profits are up and you're *raising* my pr...   \n660  Your rates are higher than others who do the s...   \n661  Your rates are higher than others who do the s...   \n662                       Your stupid price hike again   \n\n                                         theme  \n0                                          NaN  \n1                                          NaN  \n2                                          NaN  \n3    Reducing expenses / financial constraints  \n4               Object to sharing restrictions  \n..                                         ...  \n658             Constant price rise / increase  \n659             Constant price rise / increase  \n660                         Prefer competition  \n661                              Too expensive  \n662             Constant price rise / increase  \n\n[663 rows x 4 columns]",
      "text/html": "<div>\n<style scoped>\n    .dataframe tbody tr th:only-of-type {\n        vertical-align: middle;\n    }\n\n    .dataframe tbody tr th {\n        vertical-align: top;\n    }\n\n    .dataframe thead th {\n        text-align: right;\n    }\n</style>\n<table border=\"1\" class=\"dataframe\">\n  <thead>\n    <tr style=\"text-align: right;\">\n      <th></th>\n      <th>question</th>\n      <th>respondent_id</th>\n      <th>response</th>\n      <th>theme</th>\n    </tr>\n  </thead>\n  <tbody>\n    <tr>\n      <th>0</th>\n      <td>Why are you cancelling?</td>\n      <td>1779533</td>\n      <td>seen what I like already</td>\n      <td>NaN</td>\n    </tr>\n    <tr>\n      <th>1</th>\n      <td>Why are you cancelling?</td>\n      <td>1779397</td>\n      <td>You keep canceling really good, popular series!</td>\n      <td>NaN</td>\n    </tr>\n    <tr>\n      <th>2</th>\n      <td>Why are you cancelling?</td>\n      <td>1779811</td>\n      <td>Getting through cell provider</td>\n      <td>NaN</td>\n    </tr>\n    <tr>\n      <th>3</th>\n      <td>Why are you cancelling?</td>\n      <td>1779968</td>\n      <td>Budget cuts</td>\n      <td>Reducing expenses / financial constraints</td>\n    </tr>\n    <tr>\n      <th>4</th>\n      <td>Why are you cancelling?</td>\n      <td>1779967</td>\n      <td>Cannot have multiple users</td>\n      <td>Object to sharing restrictions</td>\n    </tr>\n    <tr>\n      <th>...</th>\n      <td>...</td>\n      <td>...</td>\n      <td>...</td>\n      <td>...</td>\n    </tr>\n    <tr>\n      <th>658</th>\n      <td>Why are you cancelling?</td>\n      <td>1779372</td>\n      <td>Your pricing is terrible. You keep increasing ...</td>\n      <td>Constant price rise / increase</td>\n    </tr>\n    <tr>\n      <th>659</th>\n      <td>Why are you cancelling?</td>\n      <td>1779371</td>\n      <td>Your profits are up and you're *raising* my pr...</td>\n      <td>Constant price rise / increase</td>\n    </tr>\n    <tr>\n      <th>660</th>\n      <td>Why are you cancelling?</td>\n      <td>1779370</td>\n      <td>Your rates are higher than others who do the s...</td>\n      <td>Prefer competition</td>\n    </tr>\n    <tr>\n      <th>661</th>\n      <td>Why are you cancelling?</td>\n      <td>1779370</td>\n      <td>Your rates are higher than others who do the s...</td>\n      <td>Too expensive</td>\n    </tr>\n    <tr>\n      <th>662</th>\n      <td>Why are you cancelling?</td>\n      <td>1779369</td>\n      <td>Your stupid price hike again</td>\n      <td>Constant price rise / increase</td>\n    </tr>\n  </tbody>\n</table>\n<p>663 rows × 4 columns</p>\n</div>"
     },
     "execution_count": 3,
     "metadata": {},
     "output_type": "execute_result"
    }
   ],
   "source": [
    "df"
   ],
   "metadata": {
    "collapsed": false
   }
  },
  {
   "cell_type": "code",
   "execution_count": null,
   "outputs": [],
   "source": [],
   "metadata": {
    "collapsed": false
   }
  }
 ],
 "metadata": {
  "kernelspec": {
   "display_name": "Python 3",
   "language": "python",
   "name": "python3"
  },
  "language_info": {
   "codemirror_mode": {
    "name": "ipython",
    "version": 2
   },
   "file_extension": ".py",
   "mimetype": "text/x-python",
   "name": "python",
   "nbconvert_exporter": "python",
   "pygments_lexer": "ipython2",
   "version": "2.7.6"
  }
 },
 "nbformat": 4,
 "nbformat_minor": 0
}
